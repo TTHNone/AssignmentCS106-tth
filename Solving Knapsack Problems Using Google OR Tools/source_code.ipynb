{
  "nbformat": 4,
  "nbformat_minor": 0,
  "metadata": {
    "colab": {
      "provenance": [],
      "gpuType": "V28"
    },
    "kernelspec": {
      "name": "python3",
      "display_name": "Python 3"
    },
    "language_info": {
      "name": "python"
    },
    "accelerator": "TPU"
  },
  "cells": [
    {
      "cell_type": "code",
      "source": [
        "!git clone https://github.com/likr/kplib"
      ],
      "metadata": {
        "colab": {
          "base_uri": "https://localhost:8080/"
        },
        "id": "cjE-Teo0SKce",
        "outputId": "c91f1be1-2a87-4c58-b681-2f4867322998"
      },
      "execution_count": 1,
      "outputs": [
        {
          "output_type": "stream",
          "name": "stdout",
          "text": [
            "Cloning into 'kplib'...\n",
            "remote: Enumerating objects: 20334, done.\u001b[K\n",
            "remote: Total 20334 (delta 0), reused 0 (delta 0), pack-reused 20334\u001b[K\n",
            "Receiving objects: 100% (20334/20334), 142.24 MiB | 31.23 MiB/s, done.\n",
            "Resolving deltas: 100% (13/13), done.\n",
            "Updating files: 100% (20801/20801), done.\n"
          ]
        }
      ]
    },
    {
      "cell_type": "code",
      "source": [
        "!pip install ortools"
      ],
      "metadata": {
        "colab": {
          "base_uri": "https://localhost:8080/"
        },
        "id": "PcXy0TySTGT-",
        "outputId": "74099d10-1c42-4e74-d4f2-bb7daceb9003"
      },
      "execution_count": 2,
      "outputs": [
        {
          "output_type": "stream",
          "name": "stdout",
          "text": [
            "Collecting ortools\n",
            "  Downloading ortools-9.9.3963-cp310-cp310-manylinux_2_17_x86_64.manylinux2014_x86_64.whl (24.8 MB)\n",
            "\u001b[2K     \u001b[90m━━━━━━━━━━━━━━━━━━━━━━━━━━━━━━━━━━━━━━━━\u001b[0m \u001b[32m24.8/24.8 MB\u001b[0m \u001b[31m34.1 MB/s\u001b[0m eta \u001b[36m0:00:00\u001b[0m\n",
            "\u001b[?25hCollecting absl-py>=2.0.0 (from ortools)\n",
            "  Downloading absl_py-2.1.0-py3-none-any.whl (133 kB)\n",
            "\u001b[2K     \u001b[90m━━━━━━━━━━━━━━━━━━━━━━━━━━━━━━━━━━━━━━━━\u001b[0m \u001b[32m133.7/133.7 kB\u001b[0m \u001b[31m7.7 MB/s\u001b[0m eta \u001b[36m0:00:00\u001b[0m\n",
            "\u001b[?25hRequirement already satisfied: numpy>=1.13.3 in /usr/local/lib/python3.10/dist-packages (from ortools) (1.25.2)\n",
            "Requirement already satisfied: pandas>=2.0.0 in /usr/local/lib/python3.10/dist-packages (from ortools) (2.0.3)\n",
            "Collecting protobuf>=4.25.3 (from ortools)\n",
            "  Downloading protobuf-5.26.1-cp37-abi3-manylinux2014_x86_64.whl (302 kB)\n",
            "\u001b[2K     \u001b[90m━━━━━━━━━━━━━━━━━━━━━━━━━━━━━━━━━━━━━━━━\u001b[0m \u001b[32m302.8/302.8 kB\u001b[0m \u001b[31m8.2 MB/s\u001b[0m eta \u001b[36m0:00:00\u001b[0m\n",
            "\u001b[?25hCollecting immutabledict>=3.0.0 (from ortools)\n",
            "  Downloading immutabledict-4.2.0-py3-none-any.whl (4.7 kB)\n",
            "Requirement already satisfied: python-dateutil>=2.8.2 in /usr/local/lib/python3.10/dist-packages (from pandas>=2.0.0->ortools) (2.9.0.post0)\n",
            "Requirement already satisfied: pytz>=2020.1 in /usr/local/lib/python3.10/dist-packages (from pandas>=2.0.0->ortools) (2024.1)\n",
            "Requirement already satisfied: tzdata>=2022.1 in /usr/local/lib/python3.10/dist-packages (from pandas>=2.0.0->ortools) (2024.1)\n",
            "Requirement already satisfied: six>=1.5 in /usr/local/lib/python3.10/dist-packages (from python-dateutil>=2.8.2->pandas>=2.0.0->ortools) (1.16.0)\n",
            "Installing collected packages: protobuf, immutabledict, absl-py, ortools\n",
            "  Attempting uninstall: protobuf\n",
            "    Found existing installation: protobuf 3.20.3\n",
            "    Uninstalling protobuf-3.20.3:\n",
            "      Successfully uninstalled protobuf-3.20.3\n",
            "  Attempting uninstall: absl-py\n",
            "    Found existing installation: absl-py 1.4.0\n",
            "    Uninstalling absl-py-1.4.0:\n",
            "      Successfully uninstalled absl-py-1.4.0\n",
            "\u001b[31mERROR: pip's dependency resolver does not currently take into account all the packages that are installed. This behaviour is the source of the following dependency conflicts.\n",
            "google-api-core 1.34.1 requires protobuf!=3.20.0,!=3.20.1,!=4.21.0,!=4.21.1,!=4.21.2,!=4.21.3,!=4.21.4,!=4.21.5,<4.0.0dev,>=3.19.5, but you have protobuf 5.26.1 which is incompatible.\n",
            "googleapis-common-protos 1.63.0 requires protobuf!=3.20.0,!=3.20.1,!=4.21.1,!=4.21.2,!=4.21.3,!=4.21.4,!=4.21.5,<5.0.0.dev0,>=3.19.5, but you have protobuf 5.26.1 which is incompatible.\n",
            "tensorflow 2.15.0 requires protobuf!=4.21.0,!=4.21.1,!=4.21.2,!=4.21.3,!=4.21.4,!=4.21.5,<5.0.0dev,>=3.20.3, but you have protobuf 5.26.1 which is incompatible.\n",
            "tensorflow-metadata 1.14.0 requires absl-py<2.0.0,>=0.9, but you have absl-py 2.1.0 which is incompatible.\n",
            "tensorflow-metadata 1.14.0 requires protobuf<4.21,>=3.20.3, but you have protobuf 5.26.1 which is incompatible.\u001b[0m\u001b[31m\n",
            "\u001b[0mSuccessfully installed absl-py-2.1.0 immutabledict-4.2.0 ortools-9.9.3963 protobuf-5.26.1\n"
          ]
        }
      ]
    },
    {
      "cell_type": "code",
      "source": [
        "from ortools.algorithms.python import knapsack_solver\n",
        "import os, random, time\n"
      ],
      "metadata": {
        "id": "nLpOddtRS06d"
      },
      "execution_count": 3,
      "outputs": []
    },
    {
      "cell_type": "code",
      "source": [
        "solver = knapsack_solver.KnapsackSolver(\n",
        "    knapsack_solver.SolverType.KNAPSACK_MULTIDIMENSION_BRANCH_AND_BOUND_SOLVER,\n",
        "    \"KnapsackExample\",\n",
        ")"
      ],
      "metadata": {
        "id": "DXoZe5QLTNAQ"
      },
      "execution_count": 4,
      "outputs": []
    },
    {
      "cell_type": "code",
      "source": [
        "def rmdir(path):\n",
        "    if (not os.path.isdir(path)): return\n",
        "\n",
        "    fl = os.listdir(path)\n",
        "    for i in fl:\n",
        "        subPath = path + \"/\" + i\n",
        "        if (os.path.isdir(subPath)):\n",
        "            rmdir(subPath)\n",
        "            continue\n",
        "        os.remove(subPath)\n",
        "\n",
        "    os.rmdir(path)\n",
        "\n",
        "\n",
        "srcPath = \"/content/kplib\" # test cases folder\n",
        "destPath = \"/content/picked_test_cases\" # picked test cases folder\n",
        "\n",
        "RGroup = \"R10000\"\n",
        "\n",
        "rmdir(destPath) # remove old test_cases folder\n",
        "os.mkdir(destPath)\n",
        "\n",
        "for i in os.listdir(srcPath):\n",
        "    if(i == \".git\" or i == \"README.md\"):\n",
        "        continue\n",
        "    os.mkdir(destPath + \"/\" + i)\n",
        "    for j in os.listdir(srcPath + \"/\" + i):\n",
        "        srcTestCase = os.listdir(srcPath + \"/\" + i + \"/\" + j + \"/\" + RGroup)\n",
        "        os.rename(srcPath + \"/\" + i + \"/\" + j + \"/\" + RGroup + \"/\" + srcTestCase[random.randint(0, len(srcTestCase) - 1)], destPath + \"/\" + i + \"/\" + j + \".kp\")"
      ],
      "metadata": {
        "id": "rdrQmRzHXLF7"
      },
      "execution_count": 5,
      "outputs": []
    },
    {
      "cell_type": "code",
      "execution_count": 6,
      "metadata": {
        "colab": {
          "base_uri": "https://localhost:8080/"
        },
        "id": "dpzQKKq-R7zS",
        "outputId": "f4bc8537-6707-452d-8338-bc334c868f0c"
      },
      "outputs": [
        {
          "output_type": "stream",
          "name": "stdout",
          "text": [
            "Solving: /content/picked_test_cases/00Uncorrelated/n00050.kp\n",
            "Solving: /content/picked_test_cases/00Uncorrelated/n02000.kp\n",
            "Solving: /content/picked_test_cases/00Uncorrelated/n00100.kp\n",
            "Solving: /content/picked_test_cases/00Uncorrelated/n05000.kp\n",
            "Solving: /content/picked_test_cases/00Uncorrelated/n01000.kp\n",
            "Solving: /content/picked_test_cases/00Uncorrelated/n00500.kp\n",
            "Solving: /content/picked_test_cases/01WeaklyCorrelated/n00050.kp\n",
            "Solving: /content/picked_test_cases/01WeaklyCorrelated/n02000.kp\n",
            "Solving: /content/picked_test_cases/01WeaklyCorrelated/n00100.kp\n",
            "Solving: /content/picked_test_cases/01WeaklyCorrelated/n05000.kp\n",
            "Solving: /content/picked_test_cases/01WeaklyCorrelated/n01000.kp\n",
            "Solving: /content/picked_test_cases/01WeaklyCorrelated/n00500.kp\n",
            "Solving: /content/picked_test_cases/02StronglyCorrelated/n00050.kp\n",
            "Solving: /content/picked_test_cases/02StronglyCorrelated/n02000.kp\n",
            "Solving: /content/picked_test_cases/02StronglyCorrelated/n00100.kp\n",
            "Solving: /content/picked_test_cases/02StronglyCorrelated/n05000.kp\n",
            "Solving: /content/picked_test_cases/02StronglyCorrelated/n01000.kp\n",
            "Solving: /content/picked_test_cases/02StronglyCorrelated/n00500.kp\n",
            "Solving: /content/picked_test_cases/03InverseStronglyCorrelated/n00050.kp\n",
            "Solving: /content/picked_test_cases/03InverseStronglyCorrelated/n02000.kp\n",
            "Solving: /content/picked_test_cases/03InverseStronglyCorrelated/n00100.kp\n",
            "Solving: /content/picked_test_cases/03InverseStronglyCorrelated/n05000.kp\n",
            "Solving: /content/picked_test_cases/03InverseStronglyCorrelated/n01000.kp\n",
            "Solving: /content/picked_test_cases/03InverseStronglyCorrelated/n00500.kp\n",
            "Solving: /content/picked_test_cases/04AlmostStronglyCorrelated/n00050.kp\n",
            "Solving: /content/picked_test_cases/04AlmostStronglyCorrelated/n02000.kp\n",
            "Solving: /content/picked_test_cases/04AlmostStronglyCorrelated/n00100.kp\n",
            "Solving: /content/picked_test_cases/04AlmostStronglyCorrelated/n05000.kp\n",
            "Solving: /content/picked_test_cases/04AlmostStronglyCorrelated/n01000.kp\n",
            "Solving: /content/picked_test_cases/04AlmostStronglyCorrelated/n00500.kp\n",
            "Solving: /content/picked_test_cases/05SubsetSum/n00050.kp\n",
            "Solving: /content/picked_test_cases/05SubsetSum/n02000.kp\n",
            "Solving: /content/picked_test_cases/05SubsetSum/n00100.kp\n",
            "Solving: /content/picked_test_cases/05SubsetSum/n05000.kp\n",
            "Solving: /content/picked_test_cases/05SubsetSum/n01000.kp\n",
            "Solving: /content/picked_test_cases/05SubsetSum/n00500.kp\n",
            "Solving: /content/picked_test_cases/06UncorrelatedWithSimilarWeights/n00050.kp\n",
            "Solving: /content/picked_test_cases/06UncorrelatedWithSimilarWeights/n02000.kp\n",
            "Solving: /content/picked_test_cases/06UncorrelatedWithSimilarWeights/n00100.kp\n",
            "Solving: /content/picked_test_cases/06UncorrelatedWithSimilarWeights/n05000.kp\n",
            "Solving: /content/picked_test_cases/06UncorrelatedWithSimilarWeights/n01000.kp\n",
            "Solving: /content/picked_test_cases/06UncorrelatedWithSimilarWeights/n00500.kp\n",
            "Solving: /content/picked_test_cases/07SpannerUncorrelated/n00050.kp\n",
            "Solving: /content/picked_test_cases/07SpannerUncorrelated/n02000.kp\n",
            "Solving: /content/picked_test_cases/07SpannerUncorrelated/n00100.kp\n",
            "Solving: /content/picked_test_cases/07SpannerUncorrelated/n05000.kp\n",
            "Solving: /content/picked_test_cases/07SpannerUncorrelated/n01000.kp\n",
            "Solving: /content/picked_test_cases/07SpannerUncorrelated/n00500.kp\n",
            "Solving: /content/picked_test_cases/08SpannerWeaklyCorrelated/n00050.kp\n",
            "Solving: /content/picked_test_cases/08SpannerWeaklyCorrelated/n02000.kp\n",
            "Solving: /content/picked_test_cases/08SpannerWeaklyCorrelated/n00100.kp\n",
            "Solving: /content/picked_test_cases/08SpannerWeaklyCorrelated/n05000.kp\n",
            "Solving: /content/picked_test_cases/08SpannerWeaklyCorrelated/n01000.kp\n",
            "Solving: /content/picked_test_cases/08SpannerWeaklyCorrelated/n00500.kp\n",
            "Solving: /content/picked_test_cases/09SpannerStronglyCorrelated/n00050.kp\n",
            "Solving: /content/picked_test_cases/09SpannerStronglyCorrelated/n02000.kp\n",
            "Solving: /content/picked_test_cases/09SpannerStronglyCorrelated/n00100.kp\n",
            "Solving: /content/picked_test_cases/09SpannerStronglyCorrelated/n05000.kp\n",
            "Solving: /content/picked_test_cases/09SpannerStronglyCorrelated/n01000.kp\n",
            "Solving: /content/picked_test_cases/09SpannerStronglyCorrelated/n00500.kp\n",
            "Solving: /content/picked_test_cases/10MultipleStronglyCorrelated/n00050.kp\n",
            "Solving: /content/picked_test_cases/10MultipleStronglyCorrelated/n02000.kp\n",
            "Solving: /content/picked_test_cases/10MultipleStronglyCorrelated/n00100.kp\n",
            "Solving: /content/picked_test_cases/10MultipleStronglyCorrelated/n05000.kp\n",
            "Solving: /content/picked_test_cases/10MultipleStronglyCorrelated/n01000.kp\n",
            "Solving: /content/picked_test_cases/10MultipleStronglyCorrelated/n00500.kp\n",
            "Solving: /content/picked_test_cases/11ProfitCeiling/n00050.kp\n",
            "Solving: /content/picked_test_cases/11ProfitCeiling/n02000.kp\n",
            "Solving: /content/picked_test_cases/11ProfitCeiling/n00100.kp\n",
            "Solving: /content/picked_test_cases/11ProfitCeiling/n05000.kp\n",
            "Solving: /content/picked_test_cases/11ProfitCeiling/n01000.kp\n",
            "Solving: /content/picked_test_cases/11ProfitCeiling/n00500.kp\n",
            "Solving: /content/picked_test_cases/12Circle/n00050.kp\n",
            "Solving: /content/picked_test_cases/12Circle/n02000.kp\n",
            "Solving: /content/picked_test_cases/12Circle/n00100.kp\n",
            "Solving: /content/picked_test_cases/12Circle/n05000.kp\n",
            "Solving: /content/picked_test_cases/12Circle/n01000.kp\n",
            "Solving: /content/picked_test_cases/12Circle/n00500.kp\n"
          ]
        }
      ],
      "source": [
        "def solve(oSrcFile, oResFile, timeLimit):\n",
        "    values = []\n",
        "    weights = [[]]\n",
        "    capacities = []\n",
        "\n",
        "    packed_items = []\n",
        "    packed_weights = []\n",
        "    total_weight = 0\n",
        "\n",
        "    hData = oSrcFile.readlines()\n",
        "\n",
        "    capacities.append(int(hData[2]))\n",
        "\n",
        "    for i in range(4, 4 + int(hData[1])):\n",
        "        values.append(int(hData[i].split(\" \")[0]))\n",
        "        weights[0].append(int(hData[i].split(\" \")[1]))\n",
        "\n",
        "    st = time.time()\n",
        "\n",
        "    solver.init(values, weights, capacities)\n",
        "    solver.set_time_limit(timeLimit)\n",
        "\n",
        "    computed_value = solver.solve()\n",
        "\n",
        "    elapsedTime = time.time() - st\n",
        "\n",
        "    for i in range(len(values)):\n",
        "        if solver.best_solution_contains(i):\n",
        "            packed_items.append(i)\n",
        "            packed_weights.append(weights[0][i])\n",
        "            total_weight += weights[0][i]\n",
        "\n",
        "    oResFile.write(\"Size: \" + str(len(values)) + \" items, Time taken: \" + str(elapsedTime) + \"s\")\n",
        "    if (elapsedTime > timeLimit):\n",
        "        oResFile.write(\" (time limit exceeded)\")\n",
        "    oResFile.write(\"\\n\")\n",
        "    oResFile.write(\"Total value = \" + str(computed_value) + \"\\n\")\n",
        "    oResFile.write(\"Total weight = \" + str(total_weight) + \"\\n\")\n",
        "    oResFile.write(\"Total packed items = \" + str(len(packed_items)) + \"\\n\")\n",
        "    oResFile.write(\"\\n\\n\")\n",
        "\n",
        "    oSrcFile.close()\n",
        "\n",
        "\n",
        "def main():\n",
        "    if not os.path.exists(\"/content/_OR_Tools_Results/\"):\n",
        "        os.makedirs(\"/content/_OR_Tools_Results/\")\n",
        "    lst = [\n",
        "        \"00Uncorrelated\",\n",
        "        \"01WeaklyCorrelated\",\n",
        "        \"02StronglyCorrelated\",\n",
        "        \"03InverseStronglyCorrelated\",\n",
        "        \"04AlmostStronglyCorrelated\",\n",
        "        \"05SubsetSum\",\n",
        "        \"06UncorrelatedWithSimilarWeights\",\n",
        "        \"07SpannerUncorrelated\",\n",
        "        \"08SpannerWeaklyCorrelated\",\n",
        "        \"09SpannerStronglyCorrelated\",\n",
        "        \"10MultipleStronglyCorrelated\",\n",
        "        \"11ProfitCeiling\",\n",
        "        \"12Circle\"\n",
        "\n",
        "    ]\n",
        "    for test in range(0,13):\n",
        "        testGroupName = lst[test]  # Chọn 1 trong 13 group trong list trên để solve\n",
        "        testGroupPath = \"/content/picked_test_cases/\" + testGroupName\n",
        "        testCaseFile = os.listdir(testGroupPath)\n",
        "\n",
        "        resultFile = open(\"/content/_OR_Tools_Results/\" + testGroupName + \".txt\", \"w+\")\n",
        "\n",
        "        timeLimit = 120\n",
        "\n",
        "        for i in range(0, 6):\n",
        "            tmpFilePath = testGroupPath + \"/\" + testCaseFile[i]\n",
        "            resultFile.write(\"==> File path: \" + tmpFilePath + \"\\n\")\n",
        "            print(\"Solving:\", tmpFilePath)\n",
        "            solve(open(tmpFilePath, \"r\"), resultFile, timeLimit)\n",
        "\n",
        "        resultFile.close()\n",
        "\n",
        "if (__name__ == \"__main__\"):\n",
        "    main()"
      ]
    },
    {
      "cell_type": "code",
      "source": [
        "!zip -r /content/result.zip /content/_OR_Tools_Results"
      ],
      "metadata": {
        "colab": {
          "base_uri": "https://localhost:8080/"
        },
        "id": "LgVdwFZUsmty",
        "outputId": "7a57cad8-36d9-45cd-8db1-bd7fcfbe081b"
      },
      "execution_count": 7,
      "outputs": [
        {
          "output_type": "stream",
          "name": "stdout",
          "text": [
            "  adding: content/_OR_Tools_Results/ (stored 0%)\n",
            "  adding: content/_OR_Tools_Results/12Circle.txt (deflated 71%)\n",
            "  adding: content/_OR_Tools_Results/01WeaklyCorrelated.txt (deflated 71%)\n",
            "  adding: content/_OR_Tools_Results/06UncorrelatedWithSimilarWeights.txt (deflated 72%)\n",
            "  adding: content/_OR_Tools_Results/10MultipleStronglyCorrelated.txt (deflated 72%)\n",
            "  adding: content/_OR_Tools_Results/08SpannerWeaklyCorrelated.txt (deflated 72%)\n",
            "  adding: content/_OR_Tools_Results/07SpannerUncorrelated.txt (deflated 72%)\n",
            "  adding: content/_OR_Tools_Results/04AlmostStronglyCorrelated.txt (deflated 71%)\n",
            "  adding: content/_OR_Tools_Results/11ProfitCeiling.txt (deflated 71%)\n",
            "  adding: content/_OR_Tools_Results/03InverseStronglyCorrelated.txt (deflated 72%)\n",
            "  adding: content/_OR_Tools_Results/02StronglyCorrelated.txt (deflated 71%)\n",
            "  adding: content/_OR_Tools_Results/09SpannerStronglyCorrelated.txt (deflated 73%)\n",
            "  adding: content/_OR_Tools_Results/00Uncorrelated.txt (deflated 71%)\n",
            "  adding: content/_OR_Tools_Results/05SubsetSum.txt (deflated 72%)\n"
          ]
        }
      ]
    }
  ]
}