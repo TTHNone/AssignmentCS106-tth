{
  "nbformat": 4,
  "nbformat_minor": 0,
  "metadata": {
    "colab": {
      "provenance": []
    },
    "kernelspec": {
      "name": "python3",
      "display_name": "Python 3"
    },
    "language_info": {
      "name": "python"
    }
  },
  "cells": [
    {
      "cell_type": "code",
      "source": [
        "!pip install gymnasium"
      ],
      "metadata": {
        "colab": {
          "base_uri": "https://localhost:8080/"
        },
        "id": "xqFigXdwx1wc",
        "outputId": "5e6a0348-1e9d-463e-db26-f4a8041983b3"
      },
      "execution_count": 1,
      "outputs": [
        {
          "output_type": "stream",
          "name": "stdout",
          "text": [
            "Collecting gymnasium\n",
            "  Downloading gymnasium-0.29.1-py3-none-any.whl (953 kB)\n",
            "\u001b[2K     \u001b[90m━━━━━━━━━━━━━━━━━━━━━━━━━━━━━━━━━━━━━━━━\u001b[0m \u001b[32m953.9/953.9 kB\u001b[0m \u001b[31m3.6 MB/s\u001b[0m eta \u001b[36m0:00:00\u001b[0m\n",
            "\u001b[?25hRequirement already satisfied: numpy>=1.21.0 in /usr/local/lib/python3.10/dist-packages (from gymnasium) (1.25.2)\n",
            "Requirement already satisfied: cloudpickle>=1.2.0 in /usr/local/lib/python3.10/dist-packages (from gymnasium) (2.2.1)\n",
            "Requirement already satisfied: typing-extensions>=4.3.0 in /usr/local/lib/python3.10/dist-packages (from gymnasium) (4.11.0)\n",
            "Collecting farama-notifications>=0.0.1 (from gymnasium)\n",
            "  Downloading Farama_Notifications-0.0.4-py3-none-any.whl (2.5 kB)\n",
            "Installing collected packages: farama-notifications, gymnasium\n",
            "Successfully installed farama-notifications-0.0.4 gymnasium-0.29.1\n"
          ]
        }
      ]
    },
    {
      "cell_type": "code",
      "metadata": {
        "id": "g8P_laMcSQNk"
      },
      "source": [
        "import gymnasium as gym\n",
        "import numpy as np\n",
        "import random\n",
        "import time"
      ],
      "execution_count": 2,
      "outputs": []
    },
    {
      "cell_type": "code",
      "source": [
        "from IPython import display as ipythondisplay\n",
        "import matplotlib.pyplot as plt"
      ],
      "metadata": {
        "id": "ZGz6OdMxbVi5"
      },
      "execution_count": 3,
      "outputs": []
    },
    {
      "cell_type": "code",
      "metadata": {
        "id": "d3xVez-WTeww"
      },
      "source": [
        "def q_learning(env, num_episodes, num_steps_per_episode, learning_rate, gamma, max_epsilon, min_epsilon, epsilon_decay_rate):\n",
        "    q_table = np.zeros((env.observation_space.n, env.action_space.n))\n",
        "    rewards_all = []\n",
        "    for episode in range(num_episodes):\n",
        "        state, _ = env.reset()\n",
        "\n",
        "        reward_episode = 0.0\n",
        "        done = False\n",
        "        epsilon = min_epsilon + (max_epsilon - min_epsilon) * np.exp(-epsilon_decay_rate*episode)\n",
        "        for step in range(num_steps_per_episode):\n",
        "            exploration = random.uniform(0,1)\n",
        "            if exploration < epsilon:\n",
        "                action = env.action_space.sample()\n",
        "            else:\n",
        "                action = np.argmax(q_table[state, :])\n",
        "\n",
        "            next_state, reward, terminated, truncated, _ = env.step(action)\n",
        "            q_table[state, action] = q_table[state, action] * (1 - learning_rate) + learning_rate * (reward + gamma * np.max(q_table[next_state,:]))\n",
        "\n",
        "            reward_episode += reward\n",
        "            state = next_state\n",
        "\n",
        "            if terminated or truncated:\n",
        "                done = True\n",
        "\n",
        "            if done:\n",
        "                break\n",
        "        rewards_all.append(reward_episode)\n",
        "    print(f'Episode {episode} finished')\n",
        "    return q_table, rewards_all"
      ],
      "execution_count": 4,
      "outputs": []
    },
    {
      "cell_type": "code",
      "source": [
        "def sarsa(env, num_episodes, num_steps_per_episode, learning_rate, gamma, max_epsilon, min_epsilon, epsilon_decay_rate):\n",
        "    q_table = np.zeros((env.observation_space.n, env.action_space.n))\n",
        "    rewards_all = []\n",
        "\n",
        "    for episode in range(num_episodes):\n",
        "        initial_state = env.reset()\n",
        "        state = initial_state[0] if isinstance(initial_state, tuple) else initial_state\n",
        "        reward_episode = 0.0\n",
        "        done = False\n",
        "        epsilon = min_epsilon + (max_epsilon - min_epsilon) * np.exp(-epsilon_decay_rate * episode)\n",
        "\n",
        "        if random.uniform(0, 1) < epsilon:\n",
        "            action = env.action_space.sample()\n",
        "        else:\n",
        "            action = np.argmax(q_table[state, :])\n",
        "\n",
        "        for step in range(num_steps_per_episode):\n",
        "            result = env.step(action)\n",
        "            next_state, reward, done, extra_bool, info = result\n",
        "            next_state = next_state[0] if isinstance(next_state, tuple) else next_state\n",
        "\n",
        "            if random.uniform(0, 1) < epsilon:\n",
        "                next_action = env.action_space.sample()\n",
        "            else:\n",
        "                next_action = np.argmax(q_table[next_state, :])\n",
        "\n",
        "            q_table[state, action] = q_table[state, action] + learning_rate * (\n",
        "                reward + gamma * q_table[next_state, next_action] - q_table[state, action]\n",
        "            )\n",
        "\n",
        "            reward_episode += reward\n",
        "            state = next_state\n",
        "            action = next_action\n",
        "\n",
        "            if done:\n",
        "                break\n",
        "\n",
        "        rewards_all.append(reward_episode)\n",
        "    print(f'Episode {episode} finished')\n",
        "    return q_table, rewards_all\n"
      ],
      "metadata": {
        "id": "5d8l0yDxcw8N"
      },
      "execution_count": 5,
      "outputs": []
    },
    {
      "cell_type": "code",
      "metadata": {
        "id": "yGopsD0IWpDO"
      },
      "source": [
        "def play(env, q_table, render=False):\n",
        "    state, _ = env.reset()\n",
        "    total_reward = 0\n",
        "    steps = 0\n",
        "    done = False\n",
        "\n",
        "    if render:\n",
        "        plt.axis('off')\n",
        "\n",
        "    while not done:\n",
        "        action = np.argmax(q_table[state, :])\n",
        "        next_state, reward, terminated, truncated, _ = env.step(action)\n",
        "        total_reward += reward\n",
        "        steps += 1\n",
        "        if render:\n",
        "            print(f\"{state} --> {next_state}\")\n",
        "            time.sleep(0.5)\n",
        "            # screen = env.render(mode='rgb_array')\n",
        "            screen = env.render()\n",
        "            plt.imshow(screen)\n",
        "            ipythondisplay.clear_output(wait=True)\n",
        "            ipythondisplay.display(plt.gcf())\n",
        "            time.sleep(0.1)\n",
        "\n",
        "        if terminated or truncated:\n",
        "            done = True\n",
        "\n",
        "        state = next_state\n",
        "\n",
        "    return (total_reward, steps)"
      ],
      "execution_count": 6,
      "outputs": []
    },
    {
      "cell_type": "code",
      "source": [
        "def play_multiple_times(env, q_table, max_episodes):\n",
        "    success = 0\n",
        "    list_of_steps = []\n",
        "    for i in range(max_episodes):\n",
        "        total_reward, steps = play(env, q_table)\n",
        "\n",
        "        if total_reward > 0:\n",
        "            success += 1\n",
        "            list_of_steps.append(steps)\n",
        "\n",
        "    print(f'Number of successes: {success}/{max_episodes}')\n",
        "    print(f'Average number of steps: {np.mean(list_of_steps)}')"
      ],
      "metadata": {
        "id": "2l8BKi9TSqRe"
      },
      "execution_count": 12,
      "outputs": []
    },
    {
      "cell_type": "markdown",
      "source": [
        "#FrozenLake-v1"
      ],
      "metadata": {
        "id": "C4x7Uekodb-d"
      }
    },
    {
      "cell_type": "code",
      "metadata": {
        "id": "dFsyfXH5Ssd6"
      },
      "source": [
        "# Hyperparameters\n",
        "gamma = 0.99\n",
        "learning_rate = 0.1\n",
        "max_epsilon = 1.0\n",
        "min_epsilon = 0.01\n",
        "epsilon_decay_rate = 0.005\n",
        "\n",
        "num_episodes = 20000\n",
        "num_steps_per_episode = 100 # Each environment can have a different episode length"
      ],
      "execution_count": null,
      "outputs": []
    },
    {
      "cell_type": "code",
      "metadata": {
        "id": "xifGZ8j-SWPT"
      },
      "source": [
        "env = gym.make('FrozenLake-v1', render_mode=\"rgb_array\")"
      ],
      "execution_count": null,
      "outputs": []
    },
    {
      "cell_type": "code",
      "source": [
        "start_time_qlearning = time.time()\n",
        "q_table_qlearning_FLv1, rewards_all_qlearning_FLv1 = q_learning(env, num_episodes, num_steps_per_episode, learning_rate, gamma, max_epsilon, min_epsilon, epsilon_decay_rate)\n",
        "end_time_qlearning = time.time()\n",
        "execution_time_qlearning_FLv1 = end_time_qlearning - start_time_qlearning"
      ],
      "metadata": {
        "colab": {
          "base_uri": "https://localhost:8080/"
        },
        "id": "VDNSFVN0dLeZ",
        "outputId": "f38a36b9-7898-48a2-a707-3fe5f813ee7e"
      },
      "execution_count": null,
      "outputs": [
        {
          "output_type": "stream",
          "name": "stdout",
          "text": [
            "Episode 19999 finished\n"
          ]
        }
      ]
    },
    {
      "cell_type": "code",
      "source": [
        "start_time_sarsa = time.time()\n",
        "q_table_sarsa_FLv1, rewards_all_sarsa_FLv1 = sarsa(env, num_episodes, num_steps_per_episode, learning_rate, gamma, max_epsilon, min_epsilon, epsilon_decay_rate)\n",
        "end_time_sarsa = time.time()\n",
        "execution_time_sarsa_Flv1 = end_time_sarsa - start_time_sarsa"
      ],
      "metadata": {
        "colab": {
          "base_uri": "https://localhost:8080/"
        },
        "id": "uQY5aKgSkV9j",
        "outputId": "5ddb2fcc-03e0-48e8-b4c7-bad3dbfa6cd6"
      },
      "execution_count": null,
      "outputs": [
        {
          "output_type": "stream",
          "name": "stdout",
          "text": [
            "Episode 19999 finished\n"
          ]
        }
      ]
    },
    {
      "cell_type": "code",
      "source": [
        "print(\"Q-Learning \")\n",
        "play_multiple_times(env, q_table_qlearning_FLv1, 1000)\n",
        "print(f\"Execution time:  {execution_time_qlearning_FLv1} seconds\")\n",
        "print(\"SARSA\")\n",
        "play_multiple_times(env, q_table_sarsa_FLv1, 1000)\n",
        "print(f\"Execution time: {execution_time_sarsa_Flv1} seconds\")"
      ],
      "metadata": {
        "colab": {
          "base_uri": "https://localhost:8080/"
        },
        "id": "a0B7aZdpfC-b",
        "outputId": "d23daa35-f426-4ad7-93aa-48707d2d3a56"
      },
      "execution_count": null,
      "outputs": [
        {
          "output_type": "stream",
          "name": "stdout",
          "text": [
            "Q-Learning \n",
            "Number of successes: 743/1000\n",
            "Average number of steps: 36.850605652759086\n",
            "Execution time:  35.480748653411865 seconds\n",
            "SARSA\n",
            "Number of successes: 726/1000\n",
            "Average number of steps: 37.46556473829201\n",
            "Execution time: 15.52503490447998 seconds\n"
          ]
        }
      ]
    },
    {
      "cell_type": "code",
      "source": [
        "score_history1 =[]\n",
        "score_history2 =[]\n",
        "# Plotting score over time\n",
        "for i in range(500,20000,500):\n",
        "  score_history1.append((np.sum(rewards_all_qlearning_FLv1[i-500:i])/500))\n",
        "  score_history2.append((np.sum(rewards_all_sarsa_FLv1[i-500:i])/500))\n",
        "# plt.plot(list(range(0, 20000)), rewards_all6)\n",
        "plt.plot(list(range(500, 20000+1, 500))[1:], score_history1,label='q_learning')\n",
        "plt.plot(list(range(500, 20000+1, 500))[1:], score_history2,label='sarsa')\n",
        "# plt.axis([0,2000,-400, 100])\n",
        "plt.legend(loc='best')\n",
        "plt.ylabel('Score')\n",
        "plt.xlabel('Number of episodes')\n",
        "plt.title(\"H1 - FrozenLake-v1\")"
      ],
      "metadata": {
        "colab": {
          "base_uri": "https://localhost:8080/",
          "height": 489
        },
        "id": "k4G39Ww9mxg5",
        "outputId": "da593842-a2e5-495c-d771-c6c96850acc7"
      },
      "execution_count": null,
      "outputs": [
        {
          "output_type": "execute_result",
          "data": {
            "text/plain": [
              "Text(0.5, 1.0, 'H1 - FrozenLake-v1')"
            ]
          },
          "metadata": {},
          "execution_count": 13
        },
        {
          "output_type": "display_data",
          "data": {
            "text/plain": [
              "<Figure size 640x480 with 1 Axes>"
            ],
            "image/png": "[encoded data removed]"
          },
          "metadata": {}
        }
      ]
    },
    {
      "cell_type": "markdown",
      "source": [
        "#FrozenLake8x8-v1"
      ],
      "metadata": {
        "id": "FJCxFdYidg9g"
      }
    },
    {
      "cell_type": "code",
      "source": [
        "# Hyperparameters\n",
        "gamma = 0.99\n",
        "initial_learning_rate = 0.1\n",
        "min_learning_rate = 0.01\n",
        "max_epsilon = 1.0\n",
        "min_epsilon = 0.01\n",
        "epsilon_decay_rate = 0.0001\n",
        "\n",
        "num_episodes = 20000\n",
        "num_steps_per_episode = 400"
      ],
      "metadata": {
        "id": "psfsv3VBqHxM"
      },
      "execution_count": 56,
      "outputs": []
    },
    {
      "cell_type": "code",
      "source": [
        "env = gym.make('FrozenLake8x8-v1', render_mode=\"rgb_array\")"
      ],
      "metadata": {
        "id": "YvCd0yswdkbK"
      },
      "execution_count": 57,
      "outputs": []
    },
    {
      "cell_type": "code",
      "source": [
        "start_time_qlearning = time.time()\n",
        "q_table_qlearning_FL8x8v1, rewards_all_qlearning_FL8x8v1 = q_learning(env, num_episodes, num_steps_per_episode, learning_rate, gamma, max_epsilon, min_epsilon, epsilon_decay_rate)\n",
        "end_time_qlearning = time.time()\n",
        "execution_time_qlearning_FL8x8v1 = end_time_qlearning - start_time_qlearning"
      ],
      "metadata": {
        "colab": {
          "base_uri": "https://localhost:8080/"
        },
        "id": "dglI_890mhyp",
        "outputId": "419224bb-29bc-497e-aedf-1dec8b756ff4"
      },
      "execution_count": 58,
      "outputs": [
        {
          "output_type": "stream",
          "name": "stdout",
          "text": [
            "Episode 19999 finished\n"
          ]
        }
      ]
    },
    {
      "cell_type": "code",
      "source": [
        "start_time_sarsa = time.time()\n",
        "q_table_sarsa_FL8x8v1, rewards_all_sarsa_FL8x8v1 = sarsa(env, num_episodes, num_steps_per_episode, learning_rate, gamma, max_epsilon, min_epsilon, epsilon_decay_rate)\n",
        "end_time_sarsa = time.time()\n",
        "execution_time_sarsa_FL8x8v1 = end_time_sarsa - start_time_sarsa"
      ],
      "metadata": {
        "colab": {
          "base_uri": "https://localhost:8080/"
        },
        "id": "8_KGhJyvmlWe",
        "outputId": "3f163eb6-8eca-40a1-f61f-4170d5ac5d24"
      },
      "execution_count": 61,
      "outputs": [
        {
          "output_type": "stream",
          "name": "stdout",
          "text": [
            "Episode 19999 finished\n"
          ]
        }
      ]
    },
    {
      "cell_type": "code",
      "source": [
        "print(\"Q-Learning \")\n",
        "play_multiple_times(env, q_table_qlearning_FL8x8v1, 1000)\n",
        "print(f\"Execution time:  {execution_time_qlearning_FL8x8v1} seconds\")\n",
        "print(\"SARSA\")\n",
        "play_multiple_times(env, q_table_sarsa_FL8x8v1, 1000)\n",
        "print(f\"Execution time: {execution_time_sarsa_FL8x8v1} seconds\")"
      ],
      "metadata": {
        "colab": {
          "base_uri": "https://localhost:8080/"
        },
        "id": "S6DtHj5Nml5S",
        "outputId": "ad151517-4b6c-49db-a440-ac978ac5017a"
      },
      "execution_count": 62,
      "outputs": [
        {
          "output_type": "stream",
          "name": "stdout",
          "text": [
            "Q-Learning \n",
            "Number of successes: 775/1000\n",
            "Average number of steps: 89.75096774193548\n",
            "Execution time:  38.02264928817749 seconds\n",
            "SARSA\n",
            "Number of successes: 736/1000\n",
            "Average number of steps: 97.66576086956522\n",
            "Execution time: 24.100603103637695 seconds\n"
          ]
        }
      ]
    },
    {
      "cell_type": "code",
      "source": [
        "score_history1 =[]\n",
        "score_history2 =[]\n",
        "# Plotting score over time\n",
        "for i in range(500,20000,500):\n",
        "  score_history1.append((np.sum(rewards_all_qlearning_FL8x8v1[i-500:i])/500))\n",
        "  score_history2.append((np.sum(rewards_all_sarsa_FL8x8v1[i-500:i])/500))\n",
        "# plt.plot(list(range(0, 20000)), rewards_all6)\n",
        "plt.plot(list(range(500, 20000+1, 500))[1:], score_history1,label='q_learning')\n",
        "plt.plot(list(range(500, 20000+1, 500))[1:], score_history2,label='sarsa')\n",
        "# plt.axis([0,2000,-400, 100])\n",
        "plt.legend(loc='best')\n",
        "plt.ylabel('Score')\n",
        "plt.xlabel('Number of episodes')\n",
        "plt.title(\"H2-FrozenLake8x8-v1\")"
      ],
      "metadata": {
        "colab": {
          "base_uri": "https://localhost:8080/",
          "height": 489
        },
        "id": "gw2ZwCmHnV_q",
        "outputId": "6c4de612-3116-4356-e7bf-1ec311416d10"
      },
      "execution_count": 63,
      "outputs": [
        {
          "output_type": "execute_result",
          "data": {
            "text/plain": [
              "Text(0.5, 1.0, 'H2-FrozenLake8x8-v1')"
            ]
          },
          "metadata": {},
          "execution_count": 63
        },
        {
          "output_type": "display_data",
          "data": {
            "text/plain": [
              "<Figure size 640x480 with 1 Axes>"
            ],
            "image/png": "[encoded data removed]"
          },
          "metadata": {}
        }
      ]
    },
    {
      "cell_type": "markdown",
      "source": [
        "#Taxi-v3"
      ],
      "metadata": {
        "id": "CBdPWtvYdkrg"
      }
    },
    {
      "cell_type": "code",
      "source": [
        "# Hyperparameters\n",
        "gamma = 0.99\n",
        "learning_rate = 0.1\n",
        "max_epsilon = 1.0\n",
        "min_epsilon = 0.01\n",
        "epsilon_decay_rate = 0.005\n",
        "\n",
        "num_episodes = 10000\n",
        "num_steps_per_episode = 100 # Each environment can have a different episode length"
      ],
      "metadata": {
        "id": "lDLrUJEzqJOR"
      },
      "execution_count": 70,
      "outputs": []
    },
    {
      "cell_type": "code",
      "source": [
        "env = gym.make('Taxi-v3', render_mode=\"rgb_array\")"
      ],
      "metadata": {
        "id": "jc3MdwMudoHT"
      },
      "execution_count": 71,
      "outputs": []
    },
    {
      "cell_type": "code",
      "source": [
        "start_time_qlearning = time.time()\n",
        "q_table_qlearning_Tv3, rewards_all_qlearning_Tv3 = q_learning(env, num_episodes, num_steps_per_episode, learning_rate, gamma, max_epsilon, min_epsilon, epsilon_decay_rate)\n",
        "end_time_qlearning = time.time()\n",
        "execution_time_qlearning_Tv3 = end_time_qlearning - start_time_qlearning"
      ],
      "metadata": {
        "colab": {
          "base_uri": "https://localhost:8080/"
        },
        "id": "srumKsaemoEn",
        "outputId": "7633250c-9055-4b2e-a23c-5408a41c438f"
      },
      "execution_count": 72,
      "outputs": [
        {
          "output_type": "stream",
          "name": "stdout",
          "text": [
            "Episode 9999 finished\n"
          ]
        }
      ]
    },
    {
      "cell_type": "code",
      "source": [
        "start_time_sarsa = time.time()\n",
        "q_table_sarsa_Tv3, rewards_all_sarsa_Tv3 = sarsa(env, num_episodes, num_steps_per_episode, learning_rate, gamma, max_epsilon, min_epsilon, epsilon_decay_rate)\n",
        "end_time_sarsa = time.time()\n",
        "execution_time_sarsa_Tv3 = end_time_sarsa - start_time_sarsa"
      ],
      "metadata": {
        "colab": {
          "base_uri": "https://localhost:8080/"
        },
        "id": "UFqtl6m4mn9z",
        "outputId": "e7138264-59c9-4fac-af7c-3820ff0c475d"
      },
      "execution_count": 73,
      "outputs": [
        {
          "output_type": "stream",
          "name": "stdout",
          "text": [
            "Episode 9999 finished\n"
          ]
        }
      ]
    },
    {
      "cell_type": "code",
      "source": [
        "print(\"Q-Learning \")\n",
        "play_multiple_times(env, q_table_qlearning_Tv3, 1000)\n",
        "print(f\"Execution time:  {execution_time_qlearning_Tv3} seconds\")\n",
        "print(\"SARSA\")\n",
        "play_multiple_times(env, q_table_sarsa_Tv3, 1000)\n",
        "print(f\"Execution time: {execution_time_sarsa_Tv3} seconds\")"
      ],
      "metadata": {
        "colab": {
          "base_uri": "https://localhost:8080/"
        },
        "id": "r_1EyhjrmndQ",
        "outputId": "16cb4b81-e81a-4545-a451-6f1bb221ffc1"
      },
      "execution_count": 74,
      "outputs": [
        {
          "output_type": "stream",
          "name": "stdout",
          "text": [
            "Q-Learning \n",
            "Number of successes: 1000/1000\n",
            "Average number of steps: 12.991\n",
            "Execution time:  9.30050778388977 seconds\n",
            "SARSA\n",
            "Number of successes: 1000/1000\n",
            "Average number of steps: 13.168\n",
            "Execution time: 7.008825302124023 seconds\n"
          ]
        }
      ]
    },
    {
      "cell_type": "code",
      "source": [
        "score_history1 =[]\n",
        "score_history2 =[]\n",
        "# Plotting score over time\n",
        "for i in range(500,20000,500):\n",
        "  score_history1.append((np.sum(rewards_all_qlearning_Tv3[i-500:i])/500))\n",
        "  score_history2.append((np.sum(rewards_all_sarsa_Tv3[i-500:i])/500))\n",
        "# plt.plot(list(range(0, 20000)), rewards_all6)\n",
        "plt.plot(list(range(500, 20000+1, 500))[1:], score_history1,label='q_learning')\n",
        "plt.plot(list(range(500, 20000+1, 500))[1:], score_history2,label='sarsa')\n",
        "# plt.axis([0,2000,-400, 100])\n",
        "plt.legend(loc='best')\n",
        "plt.ylabel('Score')\n",
        "plt.xlabel('Number of episodes')\n",
        "plt.title(\"H2-FrozenLake8x8-v1\")"
      ],
      "metadata": {
        "colab": {
          "base_uri": "https://localhost:8080/",
          "height": 489
        },
        "id": "G0NIDr4wnqFW",
        "outputId": "713db4ad-a6b4-4ce0-8e0e-36d875aca964"
      },
      "execution_count": 76,
      "outputs": [
        {
          "output_type": "execute_result",
          "data": {
            "text/plain": [
              "Text(0.5, 1.0, 'H2-FrozenLake8x8-v1')"
            ]
          },
          "metadata": {},
          "execution_count": 76
        },
        {
          "output_type": "display_data",
          "data": {
            "text/plain": [
              "<Figure size 640x480 with 1 Axes>"
            ],
            "image/png": "[encoded data removed]"
          },
          "metadata": {}
        }
      ]
    },
    {
      "cell_type": "markdown",
      "source": [
        "# Sumary"
      ],
      "metadata": {
        "id": "_YWnCHXkbk7j"
      }
    },
    {
      "cell_type": "markdown",
      "source": [
        "Nhận xét từ thực nghiệm:\n",
        "*   FrozenLake-v1: Cả Q-Learning và SARSA đều hoạt động tốt do không gian trạng thái nhỏ. SARSA hội tụ nhanh hơn và thực thi nhanh hơn.\n",
        "*   FrozenLake8x8-v1: Q-Learning thường vượt trội hơn SARSA do khả năng khám phá và khai thác hiệu quả hơn trong không gian trạng thái lớn. Cả hai thuật toán cần nhiều thời gian hơn để hội tụ, nhưng Q-Learning thường có tỷ lệ thành công cao hơn và số bước trung bình thấp hơn.\n",
        "*   Taxi-v3: Cả hai thuật toán hoạt động tốt, với Q-Learning hội tụ nhanh hơn do tính chất off-policy. SARSA hoạt động tương đương nhưng có thể mất nhiều thời gian hơn để đạt được hiệu suất tối ưu."
      ],
      "metadata": {
        "id": "FFQuNTcGbpzz"
      }
    },
    {
      "cell_type": "markdown",
      "source": [
        "Tóm lại:\n",
        "* Q-Learning thường hoạt động tốt hơn trong các môi trường có không gian trạng thái lớn hoặc chuyển đổi xác định do tính chất off-policy, cho phép hội tụ nhanh hơn và khai thác các chính sách đã học một cách tối ưu hơn.\n",
        "* SARSA hoạt động tốt trong các môi trường nhỏ hoặc xác định hơn nhưng có thể gặp khó khăn với không gian trạng thái lớn do tính chất on-policy, dẫn đến hội tụ chậm hơn và khám phá ít hiệu quả hơn."
      ],
      "metadata": {
        "id": "3dPZbKUBdV_z"
      }
    }
  ]
}